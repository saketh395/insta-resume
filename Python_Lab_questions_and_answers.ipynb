{
  "nbformat": 4,
  "nbformat_minor": 0,
  "metadata": {
    "colab": {
      "name": "Python Lab questions and answers.ipynb",
      "provenance": [],
      "collapsed_sections": [],
      "authorship_tag": "ABX9TyMGA1YLAyjsCwNvn0+tzZmK",
      "include_colab_link": true
    },
    "kernelspec": {
      "name": "python3",
      "display_name": "Python 3"
    },
    "language_info": {
      "name": "python"
    }
  },
  "cells": [
    {
      "cell_type": "markdown",
      "metadata": {
        "id": "view-in-github",
        "colab_type": "text"
      },
      "source": [
        "<a href=\"https://colab.research.google.com/github/saketh395/insta-resume/blob/master/Python_Lab_questions_and_answers.ipynb\" target=\"_parent\"><img src=\"https://colab.research.google.com/assets/colab-badge.svg\" alt=\"Open In Colab\"/></a>"
      ]
    },
    {
      "cell_type": "markdown",
      "metadata": {
        "id": "8WDgtTPyKGTz"
      },
      "source": [
        "# **Python** **Basics**"
      ]
    },
    {
      "cell_type": "markdown",
      "metadata": {
        "id": "Ovz52QcYKZSH"
      },
      "source": [
        "1)Write a Python program that allows the user to enter two integer values, and displays the results when each of the following arithmetic operators are applied.** For example, if user enters the values 7 and 5, the output would be,\n",
        "7 + 5 = 12\n",
        "\n",
        "7 - 5 = 2\n",
        "\n",
        "7 * 5 = 35\n",
        "\n",
        "7 / 5 = 1.40\n",
        "\n",
        "7 // 5 = 1\n",
        "\n",
        "7 % 5 = 2\n",
        "\n",
        "7 ** 5 = 16,807 "
      ]
    },
    {
      "cell_type": "code",
      "metadata": {
        "colab": {
          "base_uri": "https://localhost:8080/"
        },
        "id": "TYzQdKnlKFB1",
        "outputId": "194f6143-384d-498c-d3fd-509cd8a3b0b4"
      },
      "source": [
        "x=int(input(\"Enter first number: \"))\n",
        "y=int(input(\"Enter Second number: \"))\n",
        "print(x,\"+\",y,\"=\",(x+y))\n",
        "print(x,\"-\",y,\"=\",(x-y))\n",
        "print(x,\"*\",y,\"=\",(x*y))\n",
        "print(x,\"/\",y,\"=\",(x/y))\n",
        "print(x,\"//\",y,\"=\",(x//y))\n",
        "print(x,\"%\",y,\"=\",(x%y))\n",
        "print(x,\"**\",y,\"=\",(x**y))"
      ],
      "execution_count": null,
      "outputs": [
        {
          "output_type": "stream",
          "text": [
            "Enter first number: 7\n",
            "Enter Second number: 5\n",
            "7 + 5 = 12\n",
            "7 - 5 = 2\n",
            "7 * 5 = 35\n",
            "7 / 5 = 1.4\n",
            "7 // 5 = 1\n",
            "7 % 5 = 2\n",
            "7 ** 5 = 16807\n"
          ],
          "name": "stdout"
        }
      ]
    },
    {
      "cell_type": "markdown",
      "metadata": {
        "id": "ga70XkTeKyv5"
      },
      "source": [
        "2)Write a Python program that allows the user to enter any integer value, and displays the value of 2 raised to that power. Your program should function as given.'**'\n",
        "Input: What power of two? 10\n",
        "\n",
        "Output: Two to the power of 10 is 1024"
      ]
    },
    {
      "cell_type": "code",
      "metadata": {
        "colab": {
          "base_uri": "https://localhost:8080/"
        },
        "id": "sshNRLFQK4od",
        "outputId": "bea6e047-ec23-4821-d640-b42ada72e637"
      },
      "source": [
        "x=int(input(\"What power of two? \"))\n",
        "print(\"Two to the power of\",x,\"is\",2**10)"
      ],
      "execution_count": null,
      "outputs": [
        {
          "output_type": "stream",
          "text": [
            "What power of two? 10\n",
            "Two to the power of 10 is 1024\n"
          ],
          "name": "stdout"
        }
      ]
    },
    {
      "cell_type": "markdown",
      "metadata": {
        "id": "ihrnsJ6xK9pb"
      },
      "source": [
        "3)Write a Python program that allows the user to enter any integer base and integer exponent, and displays the value of the base raised to that exponent. Your program should function as shown below.\n",
        "Input: What base? 10\n",
        "\n",
        "What power of 10? 4 Output:10 to the power of 4 is 10000"
      ]
    },
    {
      "cell_type": "code",
      "metadata": {
        "colab": {
          "base_uri": "https://localhost:8080/"
        },
        "id": "0Xl6h4HwLBpy",
        "outputId": "b3897eed-11a0-4086-fed2-ead8cae5dcf0"
      },
      "source": [
        "x=int(input(\"What base?: \"))\n",
        "y=int(input(\"What power?: \"))\n",
        "print(x,\"to the power of\",y,\"is\",x**y)"
      ],
      "execution_count": null,
      "outputs": [
        {
          "output_type": "stream",
          "text": [
            "What base?: 10\n",
            "What power?: 4\n",
            "10 to the power of 4 is 10000\n"
          ],
          "name": "stdout"
        }
      ]
    },
    {
      "cell_type": "markdown",
      "metadata": {
        "id": "q3AmLoMQLH4c"
      },
      "source": [
        "4)Write a python program that asks the user how many coins of various types they have, and then prints the total amount of money in rupees."
      ]
    },
    {
      "cell_type": "code",
      "metadata": {
        "colab": {
          "base_uri": "https://localhost:8080/"
        },
        "id": "J5ynZZ25LMbU",
        "outputId": "d47e41b8-bc04-4225-8f7b-b556c78af46e"
      },
      "source": [
        "x=int(input(\"enter the number of 1rupee coins: \"))\n",
        "y=int(input(\"enter the number of 2rupee coins: \"))\n",
        "z=int(input(\"enter the number of 5rupee coins: \"))\n",
        "print(\"amount of money in rupees:\",(x*1+y*2+z*5))"
      ],
      "execution_count": null,
      "outputs": [
        {
          "output_type": "stream",
          "text": [
            "enter the number of 1rupee coins: 3\n",
            "enter the number of 2rupee coins: 4\n",
            "enter the number of 5rupee coins: 2\n",
            "amount of money in rupees: 21\n"
          ],
          "name": "stdout"
        }
      ]
    },
    {
      "cell_type": "markdown",
      "metadata": {
        "id": "L5pzGg7pLTH7"
      },
      "source": [
        "# **Control Structures**"
      ]
    },
    {
      "cell_type": "markdown",
      "metadata": {
        "id": "Lm-7zdpkLZPZ"
      },
      "source": [
        "1) Write a Python program in which a student enters the number of college credits earned. If the number of credits is greater than 90, 'Senior Status' is displayed;\n",
        "if greater than 60, 'Junior Status' is displayed;\n",
        "\n",
        "if greater than 30, 'Sophomore Status' is displayed;\n",
        "\n",
        "else, 'Freshman Status' is displayed."
      ]
    },
    {
      "cell_type": "code",
      "metadata": {
        "colab": {
          "base_uri": "https://localhost:8080/"
        },
        "id": "Vu8ejsbYLd9X",
        "outputId": "a682a44f-463d-46d5-fa69-79ca119230c6"
      },
      "source": [
        "x=int(input(\"enter the number of credits earned: \"))\n",
        "if x>90:\n",
        "    print(\"Senior Status\")\n",
        "elif x>60 and x<=90:\n",
        "    print(\"Junior Status\")\n",
        "elif x>30 and x<=60:\n",
        "    print(\"Sophomore Status\")\n",
        "else:\n",
        "    print(\"Freshman Status\")"
      ],
      "execution_count": null,
      "outputs": [
        {
          "output_type": "stream",
          "text": [
            "enter the number of credits earned: 65\n",
            "Junior Status\n"
          ],
          "name": "stdout"
        }
      ]
    },
    {
      "cell_type": "markdown",
      "metadata": {
        "id": "9VcNnTO0LlF6"
      },
      "source": [
        "2)Write a program containing a pair of nested while loops that displays the integer values 1–100, ten numbers per row, with the columns aligned as shown below"
      ]
    },
    {
      "cell_type": "code",
      "metadata": {
        "colab": {
          "base_uri": "https://localhost:8080/"
        },
        "id": "7DtzsvSLLqpY",
        "outputId": "6a1cbf64-0805-4061-ccae-0bacc58b4d29"
      },
      "source": [
        "i=0\n",
        "while i<100:\n",
        "    j=1\n",
        "    while j<=10:\n",
        "        if i+j <10:\n",
        "            print(\"\",i+j,end=\" \")\n",
        "        else:\n",
        "            print(i+j,end=\" \")\n",
        "        j=j+1;\n",
        "    i=i+10\n",
        "    print(\"\")"
      ],
      "execution_count": null,
      "outputs": [
        {
          "output_type": "stream",
          "text": [
            " 1  2  3  4  5  6  7  8  9 10 \n",
            "11 12 13 14 15 16 17 18 19 20 \n",
            "21 22 23 24 25 26 27 28 29 30 \n",
            "31 32 33 34 35 36 37 38 39 40 \n",
            "41 42 43 44 45 46 47 48 49 50 \n",
            "51 52 53 54 55 56 57 58 59 60 \n",
            "61 62 63 64 65 66 67 68 69 70 \n",
            "71 72 73 74 75 76 77 78 79 80 \n",
            "81 82 83 84 85 86 87 88 89 90 \n",
            "91 92 93 94 95 96 97 98 99 100 \n"
          ],
          "name": "stdout"
        }
      ]
    },
    {
      "cell_type": "markdown",
      "metadata": {
        "id": "19B-5P93Lxa5"
      },
      "source": [
        "3)You go on a wonderful holiday (perhaps to jail, if you don’t like happy exercises) leaving on day number 3 (a Wednesday). You return home after 137 sleeps. Write a general version of the program which asks for the starting day number, and the length of your stay, and it will tell you the name of day of the week you will return on."
      ]
    },
    {
      "cell_type": "code",
      "metadata": {
        "colab": {
          "base_uri": "https://localhost:8080/"
        },
        "id": "_pKb8mJrL26S",
        "outputId": "6d87043b-e709-465f-cc3f-b01b7f34b0cb"
      },
      "source": [
        "x=int(input(\"enter the starting day number: \"))\n",
        "y=int(input(\"enter the length of stay: \"))\n",
        "if (x+y)%7==0:\n",
        "    print(\"Sunday\")\n",
        "elif (x+y)%7==1:\n",
        "    print(\"Monday\")\n",
        "elif (x+y)%7==2:\n",
        "    print(\"Tuesday\")\n",
        "elif (x+y)%7==3:\n",
        "    print(\"Wednesday\")\n",
        "elif (x+y)%7==4:\n",
        "    print(\"Thursday\")\n",
        "elif (x+y)%7==5:\n",
        "    print(\"Friday\")\n",
        "elif (x+y)%7==6:\n",
        "    print(\"Saturday\")"
      ],
      "execution_count": null,
      "outputs": [
        {
          "output_type": "stream",
          "text": [
            "enter the starting day number: 3\n",
            "enter the length of stay: 137\n",
            "Sunday\n"
          ],
          "name": "stdout"
        }
      ]
    },
    {
      "cell_type": "markdown",
      "metadata": {
        "id": "aT6GQBl8L8Oq"
      },
      "source": [
        "# **Functions**"
      ]
    },
    {
      "cell_type": "markdown",
      "metadata": {
        "id": "BIroX1C6MAnr"
      },
      "source": [
        "1)Write a python function geometric() that takes a list of integers as input and returns True if the integers in the list form a geometric sequence. A sequence a0, a1, a2, a3, a4, . . . , an is a geometric sequence if the ratios a1/a0, a2/a1, a3/a2, a4/a3, . . . , an-1/an are all equal.\n",
        "geometric([2, 4, 8, 16, 32, 64, 128, 256])\n",
        "\n",
        "True\n",
        "\n",
        "geometric([2, 4, 6, 8])\n",
        "\n",
        "False"
      ]
    },
    {
      "cell_type": "code",
      "metadata": {
        "colab": {
          "base_uri": "https://localhost:8080/"
        },
        "id": "zXumf6N7MD4t",
        "outputId": "558812d0-6566-44ba-c32f-ba174bf7fbe3"
      },
      "source": [
        "def geometric(lis):\n",
        "    b=True\n",
        "    ratio=lis[1]/lis[0]\n",
        "    for i in range(2,len(lis)):\n",
        "        if lis[i]/lis[i-1]!=ratio:\n",
        "            b=False\n",
        "            break\n",
        "    return b      \n",
        "list1=list(map(int,input(\"Enter list values:\").strip().split()))\n",
        "r=geometric(list1)\n",
        "print(r)"
      ],
      "execution_count": null,
      "outputs": [
        {
          "output_type": "stream",
          "text": [
            "Enter list values:1 2 4 8\n",
            "True\n"
          ],
          "name": "stdout"
        }
      ]
    },
    {
      "cell_type": "markdown",
      "metadata": {
        "id": "EZcBmfKRMZKC"
      },
      "source": [
        "**2)Write a python function names() that takes no input and repeatedly asks the user to enter the first name of a student in a class. When the user enters the empty string, the function should print for every name the number of students with that name.**\n",
        "**names()**\n",
        "\n",
        "**Enter next name: Valerie**\n",
        "\n",
        "**Enter next name: Bob**\n",
        "\n",
        "**Enter next name: Valerie**\n",
        "\n",
        "**Enter next name: Amelia**\n",
        "\n",
        "**Enter next name: Bob**\n",
        "\n",
        "**Enter next name:** \n",
        "\n",
        "**There is 1 student named Amelia**\n",
        "\n",
        "**There are 2 students named Bob**\n",
        "\n",
        "**There are 2 students named Valerie**"
      ]
    },
    {
      "cell_type": "code",
      "metadata": {
        "colab": {
          "base_uri": "https://localhost:8080/"
        },
        "id": "Dc4LMPX9MfOY",
        "outputId": "03dde79b-89d6-4e1d-ab5e-a14120889d8a"
      },
      "source": [
        "list1=[]\n",
        "y=1\n",
        "\n",
        "def names():\n",
        "    global y\n",
        "    y=1\n",
        "    if y:\n",
        "        s=input(\"Enter next name: \")\n",
        "        if s:\n",
        "            list1.append(s)\n",
        "        else:\n",
        "            y=0\n",
        "            list1.sort()\n",
        "            r=1\n",
        "            for j in range(1,len(list1)):\n",
        "                if list1[j]!=list1[j-1]:\n",
        "                    if j!=len(list1)-1:\n",
        "                        print(\"There is\",r,\"student named\",list1[j-1])\n",
        "                        r=1\n",
        "                    else:\n",
        "                        print(\"There is\",r,\"student named\",list1[j-1])\n",
        "                        print(\"There is 1 student named\",list1[j])\n",
        "\n",
        "                else:\n",
        "                    if j!=len(list1)-1:\n",
        "                        r+=1\n",
        "                    else:\n",
        "                        r+=1\n",
        "                        print(\"There is\",r,\"student named\",list1[j])\n",
        "     \n",
        "    \n",
        "while y==1:\n",
        "    names()\n"
      ],
      "execution_count": null,
      "outputs": [
        {
          "output_type": "stream",
          "text": [
            "Enter next name: saketh\n",
            "Enter next name: reddy\n",
            "Enter next name: reddy\n",
            "Enter next name: kohli\n",
            "Enter next name: kohli\n",
            "Enter next name: \n",
            "There is 2 student named kohli\n",
            "There is 2 student named reddy\n",
            "There is 1 student named saketh\n"
          ],
          "name": "stdout"
        }
      ]
    },
    {
      "cell_type": "markdown",
      "metadata": {
        "id": "yYW9PiUvMt0L"
      },
      "source": [
        "**3)Write a python function subsetSum() that takes as input a list of positive numbers and a positive number target. Your function should return True if there are three numbers in the list that add up to target. For example, if the input list is [5, 4, 10, 20, 15, 19] and target is 38, then True should be returned since 4+15+19 = 38. However, if the input list is the same but the target value is 10, then the returned value should be False because 10 is not the sum of any three numbers in the given list.**"
      ]
    },
    {
      "cell_type": "code",
      "metadata": {
        "colab": {
          "base_uri": "https://localhost:8080/"
        },
        "id": "om_tFmwQMxfm",
        "outputId": "959f1ed8-d891-40e7-bbf2-a94585321054"
      },
      "source": [
        "list1=[]\n",
        "t=int(input(\"enter the target: \"))\n",
        "list1=list(map(int,input(\"Enter list values:\").strip().split()))\n",
        "list1.sort()\n",
        "r=False\n",
        "for i in range(len(list1)-2):\n",
        "    for j in range(i+1,len(list1)-1):\n",
        "        for k in range(j+1,len(list1)):\n",
        "            if list1[i]+list1[j]+list1[k]==t:\n",
        "                r=True\n",
        "                break\n",
        "        if r:\n",
        "            break\n",
        "    if r:\n",
        "        break\n",
        "if r:\n",
        "    print(r)\n",
        "else:\n",
        "    print(r)"
      ],
      "execution_count": null,
      "outputs": [
        {
          "output_type": "stream",
          "text": [
            "enter the target: 10\n",
            "Enter list values:5 4 10 20 15 19\n",
            "False\n"
          ],
          "name": "stdout"
        }
      ]
    },
    {
      "cell_type": "markdown",
      "metadata": {
        "id": "CZI6VDbOl8MU"
      },
      "source": [
        "**4)Write the function alternatingSum(L) that takes a list of numbers and returns the alternating sum (where the sign alternates from positive to negative or vice versa). For example, alternatingSum([5,3,8,4]) returns 6 (that is, 5-3+8-4). If the list is empty, return 0.**"
      ]
    },
    {
      "cell_type": "code",
      "metadata": {
        "colab": {
          "base_uri": "https://localhost:8080/"
        },
        "id": "DwwGQO0Kl9wj",
        "outputId": "853b412a-b6bc-4d06-a436-9bc9dd5555f5"
      },
      "source": [
        "list1=[]\n",
        "list1=list(map(int,input(\"Enter list values:\").strip().split()))\n",
        "sum=0\n",
        "if not(n):\n",
        "  print(\"0\")\n",
        "else:\n",
        "  for i in range(len(list1)):\n",
        "    if(i%2==0):\n",
        "      sum+=list1[i]\n",
        "    else:\n",
        "      sum-=list1[i]\n",
        "print(\"Alternative sum is:\",sum)"
      ],
      "execution_count": null,
      "outputs": [
        {
          "output_type": "stream",
          "text": [
            "Enter list values:5 3 8 4\n",
            "Alternative sum is: 6\n"
          ],
          "name": "stdout"
        }
      ]
    },
    {
      "cell_type": "markdown",
      "metadata": {
        "id": "BUgCk8bxzg92"
      },
      "source": [
        "# **lists**"
      ]
    },
    {
      "cell_type": "markdown",
      "metadata": {
        "id": "g431Z-Z0zt4H"
      },
      "source": [
        "**1)Write a python program to demonstrate, a list rotation consists of taking the last element and moving it to the front. For instance, if we rotate the list [1,2,3,4,5], we get [5,1,2,3,4]. If we rotate it again, we get [4,5,1,2,3].Write a Python function rotatelist(ls,k) that takes a list ls and a positive integer k and returns the list ls after k rotations. If k is not positive, your function should return ls unchanged. Note that your function should not change ls itself, and should return the rotated list.Here are some examples to show how your function should work.** \n",
        "\n",
        " **rotatelist([1,2,3,4,5],1) #output is [5, 1, 2, 3, 4]** \n",
        "\n",
        " **rotatelist([1,2,3,4,5],3) #output is [3, 4, 5, 1, 2]** \n",
        "\n",
        " **rotatelist([1,2,3,4,5],12) #output is [4, 5, 1, 2, 3]**"
      ]
    },
    {
      "cell_type": "code",
      "metadata": {
        "colab": {
          "base_uri": "https://localhost:8080/"
        },
        "id": "ZedufOfp0CCm",
        "outputId": "2db79348-5963-4495-a0b7-27abc59c74f6"
      },
      "source": [
        "list1=[]\n",
        "list2=[]\n",
        "def rotatelist(k,lis):\n",
        "  if k<=0:\n",
        "    return lis\n",
        "  else:\n",
        "    k=k%len(lis)\n",
        "    for i in range(len(lis)-k,len(lis)):\n",
        "      list2.append(lis[i])\n",
        "    for i in range(0,len(lis)-k):\n",
        "      list2.append(lis[i])\n",
        "    return list2\n",
        "  \n",
        "\n",
        "list1=list(map(int,input(\"Enter list values:\").strip().split()))\n",
        "t=int(input(\"Enter the number of rotations required: \"))\n",
        "print(rotatelist(t,list1))"
      ],
      "execution_count": null,
      "outputs": [
        {
          "output_type": "stream",
          "text": [
            "Enter list values:1 2 3 4 5\n",
            "Enter the number of rotations required: 3\n",
            "[3, 4, 5, 1, 2]\n"
          ],
          "name": "stdout"
        }
      ]
    },
    {
      "cell_type": "markdown",
      "metadata": {
        "id": "3jaPHB_83oeG"
      },
      "source": [
        "**2)Write a python program to create list1 and list2, be two lists of integers.We say that list1 is a sublist of list2 if the elements in list1 appear in list2 in the same order as they appear in list1, but not necessarily consecutively.** \n",
        "\n",
        "**sublist([15, 1, 100], [20, 15, 30, 50, 1, 100])**\n",
        "\n",
        "**True** \n",
        "\n",
        "**sublist([15, 50, 20], [20, 15, 30, 50, 1, 100])** \n",
        "\n",
        "**False** "
      ]
    },
    {
      "cell_type": "code",
      "metadata": {
        "id": "aUUjWzD75bSA",
        "colab": {
          "base_uri": "https://localhost:8080/"
        },
        "outputId": "9eb6e50c-9b97-430b-f50f-89d6331f9731"
      },
      "source": [
        "list1=[]\n",
        "list2=[]\n",
        "def issublist(lis1,lis2):\n",
        "  r=True\n",
        "  if(len(lis1)>len(lis2)):\n",
        "    r=False\n",
        "  else:\n",
        "    t=0\n",
        "    for i in range(len(lis1)):\n",
        "      for j in range(t,len(lis2)):\n",
        "        if lis1[i]==lis2[j]:\n",
        "          t=j+1\n",
        "          break\n",
        "        if j==len(lis2)-1:\n",
        "          r=False\n",
        "      if t==len(lis2) and i<len(lis1)-1:\n",
        "        r=False\n",
        "        \n",
        "  return r\n",
        "list1=list(map(int,input(\"Enter list1 values:\").split()))\n",
        "list2=list(map(int,input(\"Enter list2 values:\").split()))\n",
        "b=issublist(list1,list2)\n",
        "print(b)"
      ],
      "execution_count": null,
      "outputs": [
        {
          "output_type": "stream",
          "text": [
            "Enter list1 values:15 1 100\n",
            "Enter list2 values:15 20 30 50 1 100\n",
            "True\n"
          ],
          "name": "stdout"
        }
      ]
    },
    {
      "cell_type": "code",
      "metadata": {
        "id": "9bRkyc_qTOiP"
      },
      "source": [
        "for i in range(3,3):\n",
        "  print(\"hello\")"
      ],
      "execution_count": null,
      "outputs": []
    },
    {
      "cell_type": "markdown",
      "metadata": {
        "id": "CasfsD9qlayA"
      },
      "source": [
        "**3)Write a Python program that prompts the user to enter a list of words and stores in a list only those words whose first letter occurs again within the word (for example, 'Baboon'). The program should display the resulting list.**"
      ]
    },
    {
      "cell_type": "code",
      "metadata": {
        "colab": {
          "base_uri": "https://localhost:8080/"
        },
        "id": "iL7_HzIvkyeL",
        "outputId": "4cf44f1b-9f0d-4bc0-958e-aaf12d8871a9"
      },
      "source": [
        "n=int(input(\"Enter the number of words you would like to enter: \"))\n",
        "list1=[]\n",
        "for i in range(n):\n",
        "  s=input(\"Enter the word: \")\n",
        "  if s[0].lower() in s[1:].lower():\n",
        "    list1.append(s)\n",
        "print(list1)\n"
      ],
      "execution_count": null,
      "outputs": [
        {
          "output_type": "stream",
          "text": [
            "Enter the number of words you would like to enter: 3\n",
            "Enter the word: Baboon\n",
            "Enter the word: saaSy\n",
            "Enter the word: kit\n",
            "['Baboon', 'saaSy']\n"
          ],
          "name": "stdout"
        }
      ]
    },
    {
      "cell_type": "markdown",
      "metadata": {
        "id": "pK6VvyI9orQQ"
      },
      "source": [
        "# **Strings**"
      ]
    },
    {
      "cell_type": "markdown",
      "metadata": {
        "id": "lr0oL7AdpJZK"
      },
      "source": [
        "**1)Write a python program for , A string with parentheses is well bracketed if all parentheses are matched: every opening bracket has a matching closing bracket and vice versa. Write a Python function wellbracketed(s) that takes a string s containing parentheses and returns True if s is well bracketed and False otherwise. Here are some examples to show how your function should work.** \n",
        "\n",
        "**wellbracketed(\"22)\")** \n",
        "\n",
        "**False** \n",
        "\n",
        "**wellbracketed(\"(a+b)(a-b)\")** \n",
        "\n",
        "**True** \n",
        "\n",
        "**wellbracketed(\"(a(b+c)-d)((e+f)\")** \n",
        "\n",
        "**False** "
      ]
    },
    {
      "cell_type": "code",
      "metadata": {
        "colab": {
          "base_uri": "https://localhost:8080/"
        },
        "id": "ZxeapdY5oqVd",
        "outputId": "4674d5c3-c1c7-4c39-bff2-2c94a81f6844"
      },
      "source": [
        "list=[]\n",
        "def wellbracketed(s):\n",
        "  r=True\n",
        "  for i in range(len(s)):\n",
        "    if s[i]=='(':\n",
        "      list.append(s[i])\n",
        "    elif s[i]==')':\n",
        "      if list[len(list)-1]=='(':\n",
        "        del list[len(list)-1]\n",
        "      else:\n",
        "        r=False\n",
        "        break\n",
        "  if '(' in list:\n",
        "    r=False\n",
        "  elif ')' in list:\n",
        "    r=False\n",
        "  return r\n",
        "\n",
        "\n",
        "st=input(\"Enter a String: \")\n",
        "print(wellbracketed(st))"
      ],
      "execution_count": null,
      "outputs": [
        {
          "output_type": "stream",
          "text": [
            "Enter a String: (a(b+c)-d)((e+f)\n",
            "False\n"
          ],
          "name": "stdout"
        }
      ]
    },
    {
      "cell_type": "markdown",
      "metadata": {
        "id": "Fb4KxJW3sobu"
      },
      "source": [
        "**2)Write a python program that takes a string and prints the frequency of the characters contained in it. For Example:**  \n",
        "\n",
        "**Input: Hello**  \n",
        "\n",
        "**Output: H:1 e:1 l:2 o:1** "
      ]
    },
    {
      "cell_type": "code",
      "metadata": {
        "colab": {
          "base_uri": "https://localhost:8080/"
        },
        "id": "BZX0dB0eu-iN",
        "outputId": "93a07faf-490c-4117-b323-abbdbd6dbecf"
      },
      "source": [
        "freq={}\n",
        "s=input(\"Enter the string: \")\n",
        "for i in range(len(s)):\n",
        "  if s[i] in freq:\n",
        "    freq[s[i]]+=1\n",
        "  else:\n",
        "    freq[s[i]]=1\n",
        "for key,value in freq.items():\n",
        "  if key!=' ':\n",
        "    print((\"%s:%d\"%(key,value)),end=\" \")"
      ],
      "execution_count": null,
      "outputs": [
        {
          "output_type": "stream",
          "text": [
            "Enter the string: hello\n",
            "h:1 e:1 l:2 o:1 "
          ],
          "name": "stdout"
        }
      ]
    },
    {
      "cell_type": "markdown",
      "metadata": {
        "id": "F9hsgjBLxi4w"
      },
      "source": [
        "**3)Write a program that takes your full name as input and displays the abbreviations of the first and middle names except the last name which is displayed as it is. For example, if you r name is Robert Brett Roser, then the output should be R.B.Roser**"
      ]
    },
    {
      "cell_type": "code",
      "metadata": {
        "colab": {
          "base_uri": "https://localhost:8080/"
        },
        "id": "iX2RrtLrx3of",
        "outputId": "a0b7411c-5af8-467d-a828-0435aff2bff7"
      },
      "source": [
        "s=input(\"enter the full name: \")\n",
        "list=[]\n",
        "for i in range(len(s)):\n",
        "  if s[i] == ' ':\n",
        "    print(list[0]+\".\",end='')\n",
        "    del list[:]\n",
        "  else:\n",
        "    list.append(s[i])\n",
        "  if i==len(s)-1:\n",
        "    for i in range(len(list)):\n",
        "      print(list[i],end=\"\")\n",
        "\n"
      ],
      "execution_count": null,
      "outputs": [
        {
          "output_type": "stream",
          "text": [
            "enter the full name: Robert Brett Roser\n",
            "R.B.Roser"
          ],
          "name": "stdout"
        }
      ]
    },
    {
      "cell_type": "markdown",
      "metadata": {
        "id": "O7srvJI10ml9"
      },
      "source": [
        "# **Tuples and sets**"
      ]
    },
    {
      "cell_type": "markdown",
      "metadata": {
        "id": "b-Rrqh6K01we"
      },
      "source": [
        "**1)Given a list of tuples, extract all tuples having K digit elements.** \n",
        "\n",
        "Input : test_list = [(54, 2), (34, 55), (222, 23), (12, 45), (78, )], K = 2  \n",
        "Output : [(34, 55), (12, 45), (78,)]\n",
        "Explanation : All tuples have numbers with 2 digits. \n",
        "\n",
        "Input : test_list = [(54, 2), (34, 55), (222, 23), (12, 45), (782, )], K = 3  \n",
        "Output : [(782,)]  \n",
        "Explanation : All tuples have numbers with 3 digits"
      ]
    },
    {
      "cell_type": "code",
      "metadata": {
        "id": "a7U-x3ZY2kDO",
        "colab": {
          "base_uri": "https://localhost:8080/"
        },
        "outputId": "54ad5c2e-a55a-4975-97a4-dfc66faab97a"
      },
      "source": [
        "def kdigit(ls, k):\n",
        "  klist = []\n",
        "  for item in ls:\n",
        "    flag = True\n",
        "    for i in range(len(item)):\n",
        "      conv = str(item[i])\n",
        "      if len(conv)!=k:\n",
        "        flag = False\n",
        "        break\n",
        "    if flag:\n",
        "      klist.append(item)\n",
        "  return klist\n",
        "inp_list = eval(input(\"Enter a list of tuples: \"))\n",
        "k = int(input(\"Enter k: \"))\n",
        "print(kdigit(inp_list, k))"
      ],
      "execution_count": null,
      "outputs": [
        {
          "output_type": "stream",
          "text": [
            "Enter a list of tuples: (2,3),(345,456),(22,345)\n",
            "Enter k: 3\n",
            "[(345, 456)]\n"
          ],
          "name": "stdout"
        }
      ]
    },
    {
      "cell_type": "markdown",
      "metadata": {
        "id": "SeayIFLv-kk7"
      },
      "source": [
        "**2)While working with Python data, we can have a problem in which we have data in form of\n",
        "nested and non-nested form inside in a single tuple, and we wish to count the element frequency\n",
        "in them. This kind of problem can come in domains such as web development and Data\n",
        "Science.**\n",
        "\n",
        "Input : test_tuple = (5, (6, (7, 8, 6)))\n",
        "\n",
        "Output : {5: 1, 6: 2, 7: 1, 8: 1}\n",
        "\n",
        "Input : test_tuple = (5, 6, 7, 8)\n",
        "\n",
        "Output : {5: 1, 6: 1, 7: 1, 8: 1}\n"
      ]
    },
    {
      "cell_type": "code",
      "metadata": {
        "colab": {
          "base_uri": "https://localhost:8080/"
        },
        "id": "NlDwol0c9mWy",
        "outputId": "7edab83a-66f4-4725-b859-470021049df3"
      },
      "source": [
        "big_record = {}\n",
        "def counter(tup, big_record):\n",
        "  for item in tup:\n",
        "    if type(item) is int:\n",
        "      if item not in big_record:\n",
        "        big_record[item] = 1\n",
        "      else:\n",
        "        big_record[item]+=1\n",
        "    else:\n",
        "      counter(item, big_record)\n",
        "  return big_record\n",
        "inp_tuple = eval(input(\"Enter the nested tuple: \"))\n",
        "print(counter(inp_tuple, big_record))\n"
      ],
      "execution_count": null,
      "outputs": [
        {
          "output_type": "stream",
          "text": [
            "Enter the nested tuple: (5, (6, (7, 8, 6)))\n",
            "{5: 1, 6: 2, 7: 1, 8: 1}\n"
          ],
          "name": "stdout"
        }
      ]
    },
    {
      "cell_type": "markdown",
      "metadata": {
        "id": "EEH5m8Tg_SJI"
      },
      "source": [
        "**3)Given a set, write a Python program to generate all possible subset of size n of given set\n",
        "within a list.**\n",
        "\n",
        "Input : {1, 2, 3}, n = 2\n",
        "\n",
        "Output : [{1, 2}, {1, 3}, {2, 3}]\n",
        "\n",
        "Input : {1, 2, 3, 4}, n = 3\n",
        "\n",
        "Output : [{1, 2, 3}, {1, 2, 4}, {1, 3, 4}, {2, 3, 4}]\n"
      ]
    },
    {
      "cell_type": "code",
      "metadata": {
        "colab": {
          "base_uri": "https://localhost:8080/"
        },
        "id": "cgr8CHUe_dLL",
        "outputId": "a2a16d02-10c5-40d8-ec8c-38f65e4b2c76"
      },
      "source": [
        "from itertools import combinations\n",
        "inp_set = eval(input(\"Enter the set: \"))\n",
        "n = int(input(\"Enter the size of subset: \"))\n",
        "comb=combinations(inp_set,n)\n",
        "for i in comb:\n",
        "  print(i)"
      ],
      "execution_count": null,
      "outputs": [
        {
          "output_type": "stream",
          "text": [
            "Enter the set: 1,2,3\n",
            "Enter the size of subset: 2\n",
            "(1, 2)\n",
            "(1, 3)\n",
            "(2, 3)\n"
          ],
          "name": "stdout"
        }
      ]
    },
    {
      "cell_type": "markdown",
      "metadata": {
        "id": "JWwX6JPx5k6d"
      },
      "source": [
        "# **Dictionaries**"
      ]
    },
    {
      "cell_type": "markdown",
      "metadata": {
        "id": "1q1_WSrF5rBU"
      },
      "source": [
        "**1)Create a python dictionary for words and their meanings. Write functions to add a new entry (word:meaning) ,search for a particular word and retrieve meaning, given meaning find words with same meaning , remove an entry, display all words sorted alphabetically. [Program must be menu driven]**"
      ]
    },
    {
      "cell_type": "code",
      "metadata": {
        "colab": {
          "base_uri": "https://localhost:8080/"
        },
        "id": "80hamAjs7E2Y",
        "outputId": "0840b687-fb8c-4633-819a-0802d05c6ed1"
      },
      "source": [
        "dict={}\n",
        "r=True\n",
        "def menu():\n",
        "  global r\n",
        "  r=True\n",
        "  print(\"1.add\",\"2.search\",\"3.find words\",\"4.remove\",\"5.display\",\"6.end\")\n",
        "  n=int(input(\"Enter operation number: \"))\n",
        "  if n==1:\n",
        "    add()\n",
        "  elif n==2:\n",
        "    search()\n",
        "  elif n==3:\n",
        "    findwords()\n",
        "  elif n==4:\n",
        "    remove()\n",
        "  elif n==5:\n",
        "    display()\n",
        "  elif n==6:\n",
        "    r=False\n",
        "def add():\n",
        "  w=input(\"enter word: \")\n",
        "  m=input(\"enter meaning: \")\n",
        "  dict[w]=m\n",
        "def search():\n",
        "  w=input(\"enter word to be searched: \")\n",
        "  for key,value in dict.items():\n",
        "    if w==key:\n",
        "      print(\"meaning of\",w,\"is\",value)\n",
        "      break\n",
        "def findwords():\n",
        "  m=input(\"enter the meaning: \")\n",
        "  print(\"words are:\")\n",
        "  for key,value in dict.items():\n",
        "    if m==value:\n",
        "      print(key)\n",
        "def remove():\n",
        "  w=input(\"Enter the word to be removed: \")\n",
        "  dict.pop(w)\n",
        "def display():\n",
        "  print(\"words are: \")\n",
        "  for i in sorted(dict.keys()):\n",
        "    print(i)\n",
        "while r:\n",
        "  menu()"
      ],
      "execution_count": null,
      "outputs": [
        {
          "output_type": "stream",
          "text": [
            "1.add 2.search 3.find words 4.remove 5.display 6.end\n",
            "Enter operation number: 6\n"
          ],
          "name": "stdout"
        }
      ]
    },
    {
      "cell_type": "markdown",
      "metadata": {
        "id": "lP129kITUoTV"
      },
      "source": [
        "**2)Write a Python script to concatenate following dictionaries to create a new one. Sample Dictionary : dic1={1:10, 2:20} dic2={3:30, 4:40} dic3={5:50,6:60} Expected Result : {1: 10, 2: 20, 3: 30, 4: 40, 5: 50, 6: 60}**"
      ]
    },
    {
      "cell_type": "code",
      "metadata": {
        "colab": {
          "base_uri": "https://localhost:8080/"
        },
        "id": "O5OFh5PATwx2",
        "outputId": "41fc79c8-0b27-460a-c12c-89ff2c4494d0"
      },
      "source": [
        "dict={}\n",
        "n=int(input(\"enter the number of dictionaries: \"))\n",
        "for i in range(n):\n",
        "  print(\"Enter number of elements in %d dictionary: \"%(i+1))\n",
        "  x=int(input())\n",
        "  for j in range(x):\n",
        "    k=int(input(\"enter key: \"))\n",
        "    v=int(input(\"enter value: \"))\n",
        "    dict[k]=v;\n",
        "\n",
        "print(dict)"
      ],
      "execution_count": null,
      "outputs": [
        {
          "output_type": "stream",
          "text": [
            "enter the number of dictionaries: 2\n",
            "Enter number of elements in 1 dictionary: \n",
            "2\n",
            "enter key: 1\n",
            "enter value: 1\n",
            "enter key: 2\n",
            "enter value: 2\n",
            "Enter number of elements in 2 dictionary: \n",
            "2\n",
            "enter key: 3\n",
            "enter value: 3\n",
            "enter key: 4\n",
            "enter value: 4\n",
            "{1: 1, 2: 2, 3: 3, 4: 4}\n"
          ],
          "name": "stdout"
        }
      ]
    },
    {
      "cell_type": "markdown",
      "metadata": {
        "id": "KGdNnTy6YtpG"
      },
      "source": [
        "**3)Write the function nearestBusStop(street) that takes a non-negative int street number, and returns the nearest bus stop to the given street, where buses stop every 8th street, including street 0, and ties go to the lower street, so the nearest bus stop to 12th street is 8th street, and the nearest bus stop to 13 street is 16th street. The function returns an integer, so for example, nearestBusStop(5) returns 8.**"
      ]
    },
    {
      "cell_type": "code",
      "metadata": {
        "colab": {
          "base_uri": "https://localhost:8080/"
        },
        "id": "3Mk8g9ZYWap2",
        "outputId": "e9ad1ed1-3ce5-4adb-fd29-f34ef04d801c"
      },
      "source": [
        "import math\n",
        "n=int(input(\"Enter the Street number: \"))\n",
        "def nearestbusstop(n):\n",
        "  if n%8<=4:\n",
        "    return math.floor(n/8)*8\n",
        "  else:\n",
        "    return math.ceil(n/8)*8\n",
        "\n",
        "res=nearestbusstop(n)\n",
        "print(\"Nearest busstop is:\",res,\"street\")"
      ],
      "execution_count": null,
      "outputs": [
        {
          "output_type": "stream",
          "text": [
            "Enter the Street number: 13\n",
            "Nearest busstop is: 16 street\n"
          ],
          "name": "stdout"
        }
      ]
    },
    {
      "cell_type": "markdown",
      "metadata": {
        "id": "U6ehSPfq7tTn"
      },
      "source": [
        "# **Object Oriented Concepts**"
      ]
    },
    {
      "cell_type": "markdown",
      "metadata": {
        "id": "VvLUoF8_79r0"
      },
      "source": [
        "**1)Write a python class to represent city which\n",
        "contains a list of places to see. Provide methods to\n",
        "create the object with just the city name or with city\n",
        "name and places (stored as list) Provide methods to\n",
        "add a place of visit, to remove place of visit, to\n",
        "display all places of visit.**"
      ]
    },
    {
      "cell_type": "code",
      "metadata": {
        "colab": {
          "base_uri": "https://localhost:8080/"
        },
        "id": "P2ovdr0-8F9z",
        "outputId": "4ece76ed-161d-4792-bb69-a681156db0ba"
      },
      "source": [
        "class visit:\n",
        "  def  __init__(self,cityname):\n",
        "    self.cityname=cityname\n",
        "  def addplace(self,list):\n",
        "    self.place=list\n",
        "  def removeplace(self):\n",
        "    st=input(\"enter the name of place to be removed:\")\n",
        "    self.place.remove(st)\n",
        "city1=visit(\"newyork\")\n",
        "list1=list(map(str,input(\"enter places:\").split()))\n",
        "city1.addplace(list1)\n",
        "print(city1.place)\n",
        "city1.removeplace()\n",
        "print(city1.place)\n",
        "\n",
        "\n"
      ],
      "execution_count": null,
      "outputs": [
        {
          "output_type": "stream",
          "text": [
            "enter places:museum park beach\n",
            "['museum', 'park', 'beach']\n",
            "enter the name of place to be removed:park\n",
            "['museum', 'beach']\n"
          ],
          "name": "stdout"
        }
      ]
    },
    {
      "cell_type": "markdown",
      "metadata": {
        "id": "rOMBVFMdxdv2"
      },
      "source": [
        "**2)Write a python program to simulate saving account \n",
        "processing in a bank using constructors. Create \n",
        "Deposit and Withdraw with other member \n",
        "functions and Check for Validation while \n",
        "withdrawing the amount and depositing the amount \n",
        "by defining appropriate user defined exceptions**"
      ]
    },
    {
      "cell_type": "code",
      "metadata": {
        "colab": {
          "base_uri": "https://localhost:8080/"
        },
        "id": "ikpDcgLPxs2w",
        "outputId": "a509794e-3b86-4151-e1ed-e9507fe98407"
      },
      "source": [
        "class savingacc:\n",
        "  def __init__(self,name,initamount):\n",
        "    self.name=name\n",
        "    self.initamount=initamount\n",
        "  def deposit(self,amount):\n",
        "    self.initamount+=amount\n",
        "    print(\"balance:\",self.initamount)\n",
        "  def withdraw(self,amount):\n",
        "    if self.initamount<amount:\n",
        "      print(\"you have only\",self,initamount)\n",
        "      print(\"Transaction Failed!!\")\n",
        "    elif self.initamount-amount<1000:\n",
        "      print(\"If you withdraw money the account will not have sufficent min balance:\")\n",
        "      print(\"Transaction Failed!!\")\n",
        "    else:\n",
        "      print(\"Transaction Successful!!\")\n",
        "      self.initamount-=amount\n",
        "      print(\"balance:\",self.initamount)\n",
        "acc1=savingacc(\"jhon\",10000)\n",
        "r=True\n",
        "while r:\n",
        "  print(\"1.WITHDRAW\\n2.DEPOSIT\\n3.end\")\n",
        "  n=int(input(\"enter choice:\"))\n",
        "  if n==1:\n",
        "    a=int(input(\"enter amount:\"))\n",
        "    acc1.withdraw(a)\n",
        "  elif n==2:\n",
        "    a=int(input(\"enter amount:\"))\n",
        "    acc1.deposit(a)\n",
        "  elif n==3:\n",
        "    r=False\n",
        "print(\"balance is:\",acc1.initamount)"
      ],
      "execution_count": null,
      "outputs": [
        {
          "output_type": "stream",
          "text": [
            "1.WITHDRAW\n",
            "2.DEPOSIT\n",
            "3.end\n",
            "enter choice:2\n",
            "enter amount:3000\n",
            "balance: 13000\n",
            "1.WITHDRAW\n",
            "2.DEPOSIT\n",
            "3.end\n",
            "enter choice:1\n",
            "enter amount:12000\n",
            "Transaction Successful!!\n",
            "balance: 1000\n",
            "1.WITHDRAW\n",
            "2.DEPOSIT\n",
            "3.end\n",
            "enter choice:1\n",
            "enter amount:500\n",
            "If you withdraw money the account will not have sufficent min balance:\n",
            "Transaction Failed!!\n",
            "1.WITHDRAW\n",
            "2.DEPOSIT\n",
            "3.end\n",
            "enter choice:3\n",
            "balance is: 1000\n"
          ],
          "name": "stdout"
        }
      ]
    },
    {
      "cell_type": "markdown",
      "metadata": {
        "id": "Ztqn9HRw8G9Z"
      },
      "source": [
        "# **Programs on File I/O**"
      ]
    },
    {
      "cell_type": "markdown",
      "metadata": {
        "id": "mLgAhc9R8RJ4"
      },
      "source": [
        "**1)Write a python program to create a file and write\n",
        "contents into the file. Open the file created and\n",
        "count the number of words in the file.**"
      ]
    },
    {
      "cell_type": "code",
      "metadata": {
        "colab": {
          "base_uri": "https://localhost:8080/"
        },
        "id": "it159DA-8bI0",
        "outputId": "86a3ba19-b6fc-4105-c190-482f325b0637"
      },
      "source": [
        "file1=open(\"file1.txt\",\"w\")\n",
        "file1.write(\"hello python files!! this is saketh\\n\")\n",
        "file1.close()\n",
        "count=0\n",
        "with open(\"file1.txt\",\"r+\") as file1:\n",
        "  for line in file1:\n",
        "    count+=len(line.split())\n",
        "print(\"number of words:\",count)\n",
        " \n"
      ],
      "execution_count": null,
      "outputs": [
        {
          "output_type": "stream",
          "text": [
            "number of words: 6\n"
          ],
          "name": "stdout"
        }
      ]
    },
    {
      "cell_type": "markdown",
      "metadata": {
        "id": "UuAa70lIDR3b"
      },
      "source": [
        "**2)Write a python program Convert the contents of the\n",
        "file ‘graffit.txt’ to all uppercase letters.**"
      ]
    },
    {
      "cell_type": "code",
      "metadata": {
        "colab": {
          "base_uri": "https://localhost:8080/"
        },
        "id": "4u0lgZ3UDYut",
        "outputId": "dffb909f-5ced-45f9-e596-3857e11697e6"
      },
      "source": [
        "file2=open(\"file2.txt\",\"w\")\n",
        "file2.write(\"hello make me upper case please!!\")\n",
        "file2.close()\n",
        "file2=open(\"file2.txt\",\"r+\")\n",
        "str=file2.read()\n",
        "print(\"file content is:\",str.upper())\n",
        "file2.close()"
      ],
      "execution_count": null,
      "outputs": [
        {
          "output_type": "stream",
          "text": [
            "file content is: HELLO MAKE ME UPPER CASE PLEASE!!\n"
          ],
          "name": "stdout"
        }
      ]
    }
  ]
}